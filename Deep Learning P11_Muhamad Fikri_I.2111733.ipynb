{
 "cells": [
  {
   "cell_type": "markdown",
   "id": "ad32d2be",
   "metadata": {},
   "source": [
    "<b>Overfitting</b><br>\n",
    "\n",
    "Definisi : Sebuah fenomena dimana model yang digunakan terlalu cocok atau sesuai dengan data training sehingga kehilangan kemampuan untuk melakukan deteksi pada data baru (data testing)."
   ]
  },
  {
   "cell_type": "markdown",
   "id": "1069c9e9",
   "metadata": {},
   "source": [
    "Contoh : Ketika hasil training bagus, tapi hasil testingnya buruk."
   ]
  },
  {
   "cell_type": "markdown",
   "id": "c0c6560d",
   "metadata": {},
   "source": [
    "Beberapa karakteristik utama terjadinya overfitting:<br>\n",
    "1. Performanya tinggi pada data training, tetapi rendah di testing.\n",
    "2. Model yang dibuat terlalu rumit."
   ]
  },
  {
   "cell_type": "markdown",
   "id": "762474a9",
   "metadata": {},
   "source": [
    "Penyebab Overfitting: <br>\n",
    "1. Data trainingnya terlalu sedikit.\n",
    "2. Datanya tidak beragam.\n",
    "3. Model terlalu kompleks.\n",
    "4. Proses training terlalu lama."
   ]
  },
  {
   "cell_type": "markdown",
   "id": "0f60c5fa",
   "metadata": {},
   "source": [
    "Cara mengatasi overfitting:<br>\n",
    "1. Sediakan data yang banyak.\n",
    "2. Menggunakan Dropout.\n",
    "3. Cross Validation."
   ]
  },
  {
   "cell_type": "code",
   "execution_count": 22,
   "id": "524fb6d9",
   "metadata": {},
   "outputs": [],
   "source": [
    "import matplotlib.pyplot as plt\n",
    "from tensorflow.keras.datasets import fashion_mnist\n",
    "\n",
    "(train_images1,train_labels1),(test_images1,test_labels1) = fashion_mnist.load_data()"
   ]
  },
  {
   "cell_type": "code",
   "execution_count": 23,
   "id": "d89f7ca0",
   "metadata": {},
   "outputs": [
    {
     "name": "stdout",
     "output_type": "stream",
     "text": [
      "Ukuran Citra Train (60000, 28, 28)\n",
      "Jumlah Label Train (60000,)\n",
      "Ukuran Citra Test (10000, 28, 28)\n",
      "Jumlah Label Test (10000,)\n"
     ]
    }
   ],
   "source": [
    "print(\"Ukuran Citra Train\",train_images1.shape)\n",
    "print(\"Jumlah Label Train\",train_labels1.shape)\n",
    "\n",
    "print(\"Ukuran Citra Test\",test_images1.shape)\n",
    "print(\"Jumlah Label Test\",test_labels1.shape)"
   ]
  },
  {
   "cell_type": "code",
   "execution_count": 24,
   "id": "9640715c",
   "metadata": {},
   "outputs": [
    {
     "name": "stdout",
     "output_type": "stream",
     "text": [
      "{0, 1, 2, 3, 4, 5, 6, 7, 8, 9}\n"
     ]
    }
   ],
   "source": [
    "print (set(train_labels1))"
   ]
  },
  {
   "cell_type": "code",
   "execution_count": 25,
   "id": "c5db4b43",
   "metadata": {},
   "outputs": [],
   "source": [
    "train_images1 = train_images1.reshape((60000,28*28))\n",
    "train_images1 = train_images1.astype(\"float32\")/255\n",
    "\n",
    "test_images1 = test_images1.reshape((10000,28*28))\n",
    "test_images1 = test_images1.astype(\"float32\")/255"
   ]
  },
  {
   "cell_type": "code",
   "execution_count": 26,
   "id": "420e80df",
   "metadata": {},
   "outputs": [],
   "source": [
    "#Arsitektur Modelnya\n",
    "import tensorflow as tf\n",
    "import numpy as np\n",
    "\n",
    "model1 = tf.keras.Sequential([\n",
    "    tf.keras.layers.Dense(512, activation='relu'),\n",
    "    tf.keras.layers.Dense(10, activation='sigmoid')\n",
    "])"
   ]
  },
  {
   "cell_type": "code",
   "execution_count": 27,
   "id": "5b8fe033",
   "metadata": {},
   "outputs": [],
   "source": [
    "model1.compile(optimizer='rmsprop', loss='sparse_categorical_crossentropy', metrics=['accuracy'])"
   ]
  },
  {
   "cell_type": "code",
   "execution_count": 28,
   "id": "8f8d3bef",
   "metadata": {},
   "outputs": [],
   "source": [
    "sampel_train_images = train_images1 [:100]\n",
    "sampel_train_labels = train_labels1 [:100]\n"
   ]
  },
  {
   "cell_type": "code",
   "execution_count": 29,
   "id": "14f062e1",
   "metadata": {},
   "outputs": [
    {
     "data": {
      "text/plain": [
       "(100, 784)"
      ]
     },
     "execution_count": 29,
     "metadata": {},
     "output_type": "execute_result"
    }
   ],
   "source": [
    "sampel_train_images.shape"
   ]
  },
  {
   "cell_type": "code",
   "execution_count": 30,
   "id": "7d9ee340",
   "metadata": {
    "scrolled": true
   },
   "outputs": [
    {
     "name": "stdout",
     "output_type": "stream",
     "text": [
      "Epoch 1/10\n",
      "1/1 [==============================] - 1s 812ms/step - loss: 2.3450 - accuracy: 0.1500\n",
      "Epoch 2/10\n",
      "1/1 [==============================] - 0s 30ms/step - loss: 1.7341 - accuracy: 0.3900\n",
      "Epoch 3/10\n",
      "1/1 [==============================] - 0s 33ms/step - loss: 2.1849 - accuracy: 0.4700\n",
      "Epoch 4/10\n",
      "1/1 [==============================] - 0s 33ms/step - loss: 1.4221 - accuracy: 0.5800\n",
      "Epoch 5/10\n",
      "1/1 [==============================] - 0s 80ms/step - loss: 1.1529 - accuracy: 0.7600\n",
      "Epoch 6/10\n",
      "1/1 [==============================] - 0s 33ms/step - loss: 0.8029 - accuracy: 0.8100\n",
      "Epoch 7/10\n",
      "1/1 [==============================] - 0s 32ms/step - loss: 0.7725 - accuracy: 0.8100\n",
      "Epoch 8/10\n",
      "1/1 [==============================] - 0s 37ms/step - loss: 0.6270 - accuracy: 0.8300\n",
      "Epoch 9/10\n",
      "1/1 [==============================] - 0s 29ms/step - loss: 0.6190 - accuracy: 0.8400\n",
      "Epoch 10/10\n",
      "1/1 [==============================] - 0s 38ms/step - loss: 0.6011 - accuracy: 0.8400\n"
     ]
    },
    {
     "data": {
      "text/plain": [
       "<keras.src.callbacks.History at 0x248bc5c6050>"
      ]
     },
     "execution_count": 30,
     "metadata": {},
     "output_type": "execute_result"
    }
   ],
   "source": [
    "model1.fit(sampel_train_images,sampel_train_labels, epochs=10, batch_size=128)"
   ]
  },
  {
   "cell_type": "code",
   "execution_count": 31,
   "id": "752db4b5",
   "metadata": {},
   "outputs": [
    {
     "name": "stdout",
     "output_type": "stream",
     "text": [
      "akurasi hasil data test :0.60\n"
     ]
    }
   ],
   "source": [
    "prediksi = model1(test_images1)\n",
    "prediksi = prediksi.numpy() #supaya hasilnya array\n",
    "prediksi_label = np.argmax(prediksi,axis=1)\n",
    "prediksi_betul = prediksi_label == test_labels1\n",
    "print(f\"akurasi hasil data test :{prediksi_betul.mean():.2f}\")"
   ]
  },
  {
   "cell_type": "markdown",
   "id": "fa718b86",
   "metadata": {},
   "source": [
    "Pembuatan model yang lebih Deep"
   ]
  },
  {
   "cell_type": "code",
   "execution_count": 38,
   "id": "45d646d7",
   "metadata": {},
   "outputs": [],
   "source": [
    "#Arsitektur Modelnya\n",
    "import tensorflow as tf\n",
    "import numpy as np\n",
    "\n",
    "model_fikri = tf.keras.Sequential([\n",
    "    tf.keras.layers.Dense(512, activation='relu'),\n",
    "    tf.keras.layers.Dropout(0.5),\n",
    "    tf.keras.layers.Dense(256, activation='relu'),\n",
    "    tf.keras.layers.Dropout(0.5),\n",
    "    tf.keras.layers.Dense(128, activation='relu'),\n",
    "    tf.keras.layers.Dense(64, activation='relu'),\n",
    "    tf.keras.layers.Dense(32, activation='relu'),\n",
    "    tf.keras.layers.Dense(10, activation='sigmoid')\n",
    "])"
   ]
  },
  {
   "cell_type": "code",
   "execution_count": 39,
   "id": "48bc53f3",
   "metadata": {},
   "outputs": [],
   "source": [
    "model_fikri.compile(optimizer='rmsprop', loss='sparse_categorical_crossentropy', metrics=['accuracy'])"
   ]
  },
  {
   "cell_type": "code",
   "execution_count": 40,
   "id": "b57332d3",
   "metadata": {},
   "outputs": [
    {
     "name": "stdout",
     "output_type": "stream",
     "text": [
      "Epoch 1/10\n",
      "469/469 [==============================] - 15s 26ms/step - loss: 0.7437 - accuracy: 0.7227\n",
      "Epoch 2/10\n",
      "469/469 [==============================] - 12s 25ms/step - loss: 0.4975 - accuracy: 0.8196\n",
      "Epoch 3/10\n",
      "469/469 [==============================] - 11s 24ms/step - loss: 0.4496 - accuracy: 0.8380\n",
      "Epoch 4/10\n",
      "469/469 [==============================] - 12s 26ms/step - loss: 0.4247 - accuracy: 0.8460\n",
      "Epoch 5/10\n",
      "469/469 [==============================] - 11s 24ms/step - loss: 0.4045 - accuracy: 0.8548\n",
      "Epoch 6/10\n",
      "469/469 [==============================] - 12s 26ms/step - loss: 0.3938 - accuracy: 0.8590\n",
      "Epoch 7/10\n",
      "469/469 [==============================] - 12s 25ms/step - loss: 0.3845 - accuracy: 0.8627\n",
      "Epoch 8/10\n",
      "469/469 [==============================] - 11s 24ms/step - loss: 0.3738 - accuracy: 0.8675\n",
      "Epoch 9/10\n",
      "469/469 [==============================] - 12s 25ms/step - loss: 0.3664 - accuracy: 0.8697\n",
      "Epoch 10/10\n",
      "469/469 [==============================] - 11s 24ms/step - loss: 0.3609 - accuracy: 0.8714\n"
     ]
    },
    {
     "data": {
      "text/plain": [
       "<keras.src.callbacks.History at 0x248bec2d9d0>"
      ]
     },
     "execution_count": 40,
     "metadata": {},
     "output_type": "execute_result"
    }
   ],
   "source": [
    "model_fikri.fit(train_images1,train_labels1, epochs=10, batch_size=128)"
   ]
  },
  {
   "cell_type": "code",
   "execution_count": 41,
   "id": "e8a9c53a",
   "metadata": {},
   "outputs": [
    {
     "name": "stdout",
     "output_type": "stream",
     "text": [
      "Model: \"sequential_3\"\n",
      "_________________________________________________________________\n",
      " Layer (type)                Output Shape              Param #   \n",
      "=================================================================\n",
      " dense_10 (Dense)            (None, 512)               401920    \n",
      "                                                                 \n",
      " dropout (Dropout)           (None, 512)               0         \n",
      "                                                                 \n",
      " dense_11 (Dense)            (None, 256)               131328    \n",
      "                                                                 \n",
      " dropout_1 (Dropout)         (None, 256)               0         \n",
      "                                                                 \n",
      " dense_12 (Dense)            (None, 128)               32896     \n",
      "                                                                 \n",
      " dense_13 (Dense)            (None, 64)                8256      \n",
      "                                                                 \n",
      " dense_14 (Dense)            (None, 32)                2080      \n",
      "                                                                 \n",
      " dense_15 (Dense)            (None, 10)                330       \n",
      "                                                                 \n",
      "=================================================================\n",
      "Total params: 576810 (2.20 MB)\n",
      "Trainable params: 576810 (2.20 MB)\n",
      "Non-trainable params: 0 (0.00 Byte)\n",
      "_________________________________________________________________\n"
     ]
    }
   ],
   "source": [
    "model_fikri.summary()"
   ]
  },
  {
   "cell_type": "code",
   "execution_count": 42,
   "id": "5887a4c2",
   "metadata": {},
   "outputs": [
    {
     "name": "stdout",
     "output_type": "stream",
     "text": [
      "akurasi hasil data test :0.87\n"
     ]
    }
   ],
   "source": [
    "prediksi = model_fikri(test_images1)\n",
    "prediksi = prediksi.numpy() #supaya hasilnya array\n",
    "prediksi_label = np.argmax(prediksi,axis=1)\n",
    "prediksi_betul = prediksi_label == test_labels1\n",
    "print(f\"akurasi hasil data test :{prediksi_betul.mean():.2f}\")"
   ]
  },
  {
   "cell_type": "markdown",
   "id": "bb8792d0",
   "metadata": {},
   "source": [
    "Tujuan Dropout adalah untuk mencegah terjadinya Overfitting"
   ]
  },
  {
   "cell_type": "markdown",
   "id": "226b76da",
   "metadata": {},
   "source": [
    "Pretrained Model (Model yang sudah dilatih)"
   ]
  },
  {
   "cell_type": "code",
   "execution_count": 43,
   "id": "6623cd50",
   "metadata": {},
   "outputs": [
    {
     "name": "stderr",
     "output_type": "stream",
     "text": [
      "C:\\Users\\abc\\anaconda3\\Lib\\site-packages\\keras\\src\\engine\\training.py:3079: UserWarning: You are saving your model as an HDF5 file via `model.save()`. This file format is considered legacy. We recommend using instead the native Keras format, e.g. `model.save('my_model.keras')`.\n",
      "  saving_api.save_model(\n"
     ]
    }
   ],
   "source": [
    "model_fikri.save('model_fikri.h5')"
   ]
  },
  {
   "cell_type": "code",
   "execution_count": null,
   "id": "0f2463ca",
   "metadata": {},
   "outputs": [],
   "source": []
  }
 ],
 "metadata": {
  "kernelspec": {
   "display_name": "Python 3 (ipykernel)",
   "language": "python",
   "name": "python3"
  },
  "language_info": {
   "codemirror_mode": {
    "name": "ipython",
    "version": 3
   },
   "file_extension": ".py",
   "mimetype": "text/x-python",
   "name": "python",
   "nbconvert_exporter": "python",
   "pygments_lexer": "ipython3",
   "version": "3.11.4"
  }
 },
 "nbformat": 4,
 "nbformat_minor": 5
}
